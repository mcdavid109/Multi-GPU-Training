{
 "cells": [
  {
   "cell_type": "code",
   "execution_count": 1,
   "metadata": {
    "collapsed": false,
    "deletable": true,
    "editable": true
   },
   "outputs": [
    {
     "name": "stderr",
     "output_type": "stream",
     "text": [
      "Using TensorFlow backend.\n"
     ]
    }
   ],
   "source": [
    "import keras\n",
    "\n",
    "import tensorflow as tf\n",
    "import numpy as np\n",
    "from concurrent.futures import ThreadPoolExecutor, wait"
   ]
  },
  {
   "cell_type": "code",
   "execution_count": 2,
   "metadata": {
    "collapsed": true,
    "deletable": true,
    "editable": true
   },
   "outputs": [],
   "source": []
  },
  {
   "cell_type": "code",
   "execution_count": 14,
   "metadata": {
    "collapsed": true,
    "deletable": true,
    "editable": true
   },
   "outputs": [],
   "source": [
    "np.random.seed(1000)"
   ]
  },
  {
   "cell_type": "code",
   "execution_count": null,
   "metadata": {
    "collapsed": false,
    "deletable": true,
    "editable": true
   },
   "outputs": [],
   "source": [
    "data_x = np.random.rand(3200,64,64,3)\n",
    "data_y = np.random.rand(3200,26)"
   ]
  },
  {
   "cell_type": "code",
   "execution_count": null,
   "metadata": {
    "collapsed": true,
    "deletable": true,
    "editable": true
   },
   "outputs": [],
   "source": [
    "def prepare_data(path,texts):\n",
    "    j = 0\n",
    "    for i in range(100000):\n",
    "        j+=1\n",
    "    \n",
    "    return (path,texts)"
   ]
  },
  {
   "cell_type": "code",
   "execution_count": null,
   "metadata": {
    "collapsed": true,
    "deletable": true,
    "editable": true
   },
   "outputs": [],
   "source": [
    "def run():\n",
    "    return np.random.rand(100,10000)"
   ]
  },
  {
   "cell_type": "code",
   "execution_count": null,
   "metadata": {
    "collapsed": false,
    "deletable": true,
    "editable": true
   },
   "outputs": [],
   "source": [
    "def next_batch(batch_size,start):\n",
    "    x,y = prepare_data(data_x[start: start + batch_size],data_y[start: start + batch_size])\n",
    "    return x,y"
   ]
  },
  {
   "cell_type": "code",
   "execution_count": null,
   "metadata": {
    "collapsed": true,
    "deletable": true,
    "editable": true
   },
   "outputs": [],
   "source": [
    "def next_batch_2(batch_size):\n",
    "    idx = 0\n",
    "    start = 0\n",
    "    while(idx < 100):\n",
    "        x_paths, y =  prepare_data(data_x[start: start + batch_size],data_y[start: start + batch_size])\n",
    "        idx += 1\n",
    "        start += batch_size\n",
    "        yield x_paths, y "
   ]
  },
  {
   "cell_type": "code",
   "execution_count": null,
   "metadata": {
    "collapsed": false,
    "deletable": true,
    "editable": true
   },
   "outputs": [],
   "source": [
    "def next_batch_3(batch_size):\n",
    "    pool = ThreadPoolExecutor(1)\n",
    "    future = pool.submit(prepare_data,data_x[:batch_size]\n",
    "                         ,data_y[:batch_size])\n",
    "    start = batch_size\n",
    "    for i in range(99):\n",
    "        wait([future])\n",
    "        minibatch = future.result()\n",
    "        # While the current minibatch is being consumed, prepare the next\n",
    "        future = pool.submit(prepare_data,data_x[start:start+batch_size]\n",
    "                         ,data_y[start:start+batch_size])\n",
    "        yield minibatch\n",
    "        start += batch_size\n",
    "    # Wait on the last minibatch\n",
    "    wait([future])\n",
    "    minibatch = future.result()\n",
    "    yield minibatch"
   ]
  },
  {
   "cell_type": "code",
   "execution_count": null,
   "metadata": {
    "collapsed": false,
    "deletable": true,
    "editable": true
   },
   "outputs": [],
   "source": [
    "a = time.time()\n",
    "for e in range(10):\n",
    "    start = 0 \n",
    "    for i in range(100):\n",
    "        x,y = next_batch(32,start)\n",
    "        start += 32\n",
    "        run()\n",
    "print(time.time()-a)"
   ]
  },
  {
   "cell_type": "code",
   "execution_count": null,
   "metadata": {
    "collapsed": false,
    "deletable": true,
    "editable": true
   },
   "outputs": [],
   "source": [
    "a = time.time()\n",
    "for e in range(10):\n",
    "    for batch in next_batch_2(32):\n",
    "        x,y  = batch\n",
    "        run()\n",
    "print(time.time()-a)"
   ]
  },
  {
   "cell_type": "code",
   "execution_count": null,
   "metadata": {
    "collapsed": false,
    "deletable": true,
    "editable": true
   },
   "outputs": [],
   "source": [
    "a = time.time()\n",
    "for e in range(10):\n",
    "    for batch in next_batch_3(32):\n",
    "        x,y  = batch\n",
    "        run()\n",
    "print(time.time()-a)"
   ]
  },
  {
   "cell_type": "code",
   "execution_count": 59,
   "metadata": {
    "collapsed": false,
    "deletable": true,
    "editable": true
   },
   "outputs": [
    {
     "name": "stdout",
     "output_type": "stream",
     "text": [
      "[[19  4 15 ...,  7  2 16]\n",
      " [ 2 24  2 ..., 20 14 22]\n",
      " [ 8  4 19 ..., 14  0  1]\n",
      " ..., \n",
      " [ 6 19 16 ...,  7 21 16]\n",
      " [20  0  7 ..., 25  2 22]\n",
      " [15  5  1 ..., 10 22 22]]\n"
     ]
    }
   ],
   "source": [
    "data_x = np.random.rand(100,64,64,3)\n",
    "data_y = np.random.randint(26,size=(100,26))\n",
    "print(data_y)"
   ]
  },
  {
   "cell_type": "code",
   "execution_count": 60,
   "metadata": {
    "collapsed": false,
    "deletable": true,
    "editable": true
   },
   "outputs": [],
   "source": []
  },
  {
   "cell_type": "code",
   "execution_count": null,
   "metadata": {
    "collapsed": true,
    "deletable": true,
    "editable": true
   },
   "outputs": [],
   "source": []
  },
  {
   "cell_type": "code",
   "execution_count": null,
   "metadata": {
    "collapsed": true,
    "deletable": true,
    "editable": true
   },
   "outputs": [],
   "source": []
  }
 ],
 "metadata": {
  "kernelspec": {
   "display_name": "Python 3",
   "language": "python",
   "name": "python3"
  },
  "language_info": {
   "codemirror_mode": {
    "name": "ipython",
    "version": 3
   },
   "file_extension": ".py",
   "mimetype": "text/x-python",
   "name": "python",
   "nbconvert_exporter": "python",
   "pygments_lexer": "ipython3",
   "version": "3.5.2"
  }
 },
 "nbformat": 4,
 "nbformat_minor": 2
}
