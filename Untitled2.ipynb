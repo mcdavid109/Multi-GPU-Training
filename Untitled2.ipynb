{
 "cells": [
  {
   "cell_type": "code",
   "execution_count": 1,
   "metadata": {
    "collapsed": false,
    "deletable": true,
    "editable": true
   },
   "outputs": [
    {
     "name": "stderr",
     "output_type": "stream",
     "text": [
      "Using TensorFlow backend.\n"
     ]
    }
   ],
   "source": [
    "import keras\n",
    "\n",
    "import tensorflow as tf\n",
    "import numpy as np\n",
    "from concurrent.futures import ThreadPoolExecutor, wait\n",
    "import time\n",
    "from threading import Thread"
   ]
  },
  {
   "cell_type": "code",
   "execution_count": 2,
   "metadata": {
    "collapsed": false,
    "deletable": true,
    "editable": true
   },
   "outputs": [
    {
     "name": "stdout",
     "output_type": "stream",
     "text": [
      "[[ 7 16  4 ..., 15 21 10]\n",
      " [14  2 12 ..., 14 17  1]\n",
      " [ 1  3 16 ..., 11 20 25]\n",
      " ..., \n",
      " [15 18 15 ...,  4  6  6]\n",
      " [15  5 18 ...,  7  4  1]\n",
      " [ 9 22  3 ...,  0  1  6]]\n"
     ]
    }
   ],
   "source": [
    "data_x = np.random.rand(100,64,64,3)\n",
    "data_y = np.random.randint(26,size=(100,26))\n",
    "print(data_y)"
   ]
  },
  {
   "cell_type": "code",
   "execution_count": 3,
   "metadata": {
    "collapsed": true,
    "deletable": true,
    "editable": true
   },
   "outputs": [],
   "source": [
    "class Dataset():\n",
    "    def __init__(self,batch_size):\n",
    "        self.batch_size = batch_size\n",
    "        self.len_data = 100\n",
    "        self._make_inputs()\n",
    "        self.idx = -1\n",
    "        self.num_threads = 2\n",
    "        self.num_batch = self.len_data // self.batch_size + 1\n",
    "    def _make_inputs(self):\n",
    "        \n",
    "        self.inputs = tf.placeholder(shape=[64,64,3],dtype=tf.float32,name='data_x')\n",
    "        self.labels = tf.placeholder(shape=[26],dtype=tf.int32,name='data_y')\n",
    "        self.queue = tf.FIFOQueue(shapes=[[64,64,3],[26]],dtypes=[tf.float32,tf.int32],\n",
    "                                  shared_name=\"fifoqueue\",capacity=self.batch_size*2)\n",
    "        self.enqueue_op = self.queue.enqueue([self.inputs,self.labels])\n",
    "        \n",
    "\n",
    "        self._queue_close = self.queue.close(cancel_pending_enqueues=True)\n",
    "\n",
    "    def next_batch(self):\n",
    "        \n",
    "        batch_x , batch_y = self.queue.dequeue_many(self.batch_size)\n",
    "        return batch_x,batch_y\n",
    "    \n",
    "\n",
    "\n",
    "    def close_queue(self, session):\n",
    "\n",
    "        session.run(self._queue_close)\n",
    "        \n",
    "    def _pre_batch_queue(self,sess,coord):\n",
    "        \n",
    "        while not coord.should_stop():\n",
    "            self.idx += 1\n",
    "            index = self.idx % self.len_data\n",
    "            feature = data_x[index]\n",
    "            label = data_y[index]\n",
    "\n",
    "            sess.run(self.enqueue_op,feed_dict = {self.inputs : feature,self.labels: label})\n",
    "\n",
    "    \n",
    "    def start_queue_threads(self,sess,coord):\n",
    "        queue_threads = [Thread(target=self._pre_batch_queue, args=(sess, coord))\n",
    "                         for i in range(self.num_threads)]\n",
    "        \n",
    "        for queue_thread in queue_threads:\n",
    "            coord.register_thread(queue_thread)\n",
    "            queue_thread.daemon = True\n",
    "            queue_thread.start()\n",
    "\n",
    "        return queue_threads\n",
    "    \n"
   ]
  },
  {
   "cell_type": "code",
   "execution_count": null,
   "metadata": {
    "collapsed": true,
    "deletable": true,
    "editable": true
   },
   "outputs": [],
   "source": []
  },
  {
   "cell_type": "code",
   "execution_count": 4,
   "metadata": {
    "collapsed": false,
    "deletable": true,
    "editable": true
   },
   "outputs": [],
   "source": [
    "def weight_variable(shape):\n",
    "    initial = tf.truncated_normal(shape, stddev=0.1)\n",
    "    return tf.Variable(initial)\n",
    "\n",
    "def bias_variable(shape):\n",
    "    initial = tf.constant(0.1, shape=shape)\n",
    "    return tf.Variable(initial)\n",
    "\n",
    "\n",
    "def model(x):\n",
    "    \n",
    "\n",
    "    conv = tf.nn.conv2d(x,weight_variable([5,5,3,64]),strides = [1,1,1,1],padding='VALID')\n",
    "    bias = bias_variable([64])\n",
    "    h_conv1 = tf.nn.relu(conv + bias)\n",
    "\n",
    "    conv2 = tf.nn.conv2d(h_conv1,weight_variable([5,5,64,32]),strides = [1,1,1,1],padding='VALID')\n",
    "    bias2 = bias_variable([32])\n",
    "    h_conv2 = tf.nn.relu(conv2 + bias2)\n",
    "    shape = h_conv2.shape.as_list()\n",
    "    h_conv_flat = tf.reshape(h_conv2,[-1,shape[1]*shape[2]*32])\n",
    "    logits  = tf.matmul(h_conv_flat,weight_variable([100352,26]) + bias_variable([26]))\n",
    "    return logits\n"
   ]
  },
  {
   "cell_type": "code",
   "execution_count": 5,
   "metadata": {
    "collapsed": true,
    "deletable": true,
    "editable": true
   },
   "outputs": [],
   "source": [
    "def get_loss(batch_x,batch_y):\n",
    "    logits = model(batch_x)\n",
    "\n",
    "    cross_entropy = tf.nn.softmax_cross_entropy_with_logits(logits=logits,\n",
    "                                                    labels=tf.cast(batch_y, tf.float32),\n",
    "                                                      name=\"cross-entropy\")\n",
    "    loss = tf.reduce_mean(cross_entropy, name='loss')\n",
    "    return loss\n",
    "    "
   ]
  },
  {
   "cell_type": "code",
   "execution_count": 6,
   "metadata": {
    "collapsed": false,
    "deletable": true,
    "editable": true
   },
   "outputs": [],
   "source": [
    "def get_tower_results(dataset,ngpus,optimizer):\n",
    "    tower_gradients = []\n",
    "    tower_loss = []\n",
    "\n",
    "    for i in range(ngpus):\n",
    "        with tf.variable_scope(tf.get_variable_scope(),reuse= i > 0):\n",
    "             with tf.device('/gpu:%d'%i):\n",
    "                with tf.name_scope('tower_%d' % i) as scope:\n",
    "                    batch_x ,batch_y = dataset.next_batch()\n",
    "                    loss = get_loss(batch_x,batch_y)\n",
    "                    print(batch_x)\n",
    "                    print('\\n')\n",
    "                    gradient = optimizer.compute_gradients(loss)\n",
    "                    print(gradient)\n",
    "                    print('\\n')\n",
    "                    tower_gradients.append(gradient)\n",
    "                    tower_loss.append(loss)\n",
    "                    \n",
    "    return tower_gradients,tf.reduce_mean(tower_loss)"
   ]
  },
  {
   "cell_type": "code",
   "execution_count": 7,
   "metadata": {
    "collapsed": true,
    "deletable": true,
    "editable": true
   },
   "outputs": [],
   "source": [
    "def average_gradients(tower_gradients):\n",
    "    average_grads = []\n",
    "\n",
    "    # Run this on cpu_device to conserve GPU memory\n",
    "    with tf.device('/cpu:0'):\n",
    "        # Loop over gradient/variable pairs from all towers\n",
    "        for grad_and_vars in zip(*tower_gradients):\n",
    "            # Introduce grads to store the gradients for the current variable\n",
    "            grads = []\n",
    "\n",
    "            # Loop over the gradients for the current variable\n",
    "            for g, _ in grad_and_vars:\n",
    "                # Add 0 dimension to the gradients to represent the tower.\n",
    "                if g is not None:\n",
    "                    expanded_g = tf.expand_dims(g, 0)\n",
    "                    # Append on a 'tower' dimension which we will average over below.\n",
    "                    grads.append(expanded_g)\n",
    "\n",
    "            # Average over the 'tower' dimension\n",
    "            grad = tf.concat(grads, 0)\n",
    "            grad = tf.reduce_mean(grad, 0)\n",
    "\n",
    "            # Create a gradient/variable tuple for the current variable with its average gradient\n",
    "            grad_and_var = (grad, grad_and_vars[0][1])\n",
    "\n",
    "            # Add the current tuple to average_grads\n",
    "            average_grads.append(grad_and_var)\n",
    "\n",
    "    # Return result to caller\n",
    "    return average_grads"
   ]
  },
  {
   "cell_type": "code",
   "execution_count": 8,
   "metadata": {
    "collapsed": false,
    "deletable": true,
    "editable": true
   },
   "outputs": [
    {
     "name": "stdout",
     "output_type": "stream",
     "text": [
      "Tensor(\"tower_0/fifo_queue_DequeueMany:0\", shape=(32, 64, 64, 3), dtype=float32, device=/device:GPU:0)\n",
      "\n",
      "\n",
      "[(<tf.Tensor 'tower_0/gradients/tower_0/Conv2D_grad/tuple/control_dependency_1:0' shape=(5, 5, 3, 64) dtype=float32>, <tf.Variable 'tower_0/Variable:0' shape=(5, 5, 3, 64) dtype=float32_ref>), (<tf.Tensor 'tower_0/gradients/tower_0/add_grad/tuple/control_dependency_1:0' shape=(64,) dtype=float32>, <tf.Variable 'tower_0/Variable_1:0' shape=(64,) dtype=float32_ref>), (<tf.Tensor 'tower_0/gradients/tower_0/Conv2D_1_grad/tuple/control_dependency_1:0' shape=(5, 5, 64, 32) dtype=float32>, <tf.Variable 'tower_0/Variable_2:0' shape=(5, 5, 64, 32) dtype=float32_ref>), (<tf.Tensor 'tower_0/gradients/tower_0/add_1_grad/tuple/control_dependency_1:0' shape=(32,) dtype=float32>, <tf.Variable 'tower_0/Variable_3:0' shape=(32,) dtype=float32_ref>), (<tf.Tensor 'tower_0/gradients/tower_0/add_2_grad/tuple/control_dependency:0' shape=(100352, 26) dtype=float32>, <tf.Variable 'tower_0/Variable_4:0' shape=(100352, 26) dtype=float32_ref>), (<tf.Tensor 'tower_0/gradients/tower_0/add_2_grad/tuple/control_dependency_1:0' shape=(26,) dtype=float32>, <tf.Variable 'tower_0/Variable_5:0' shape=(26,) dtype=float32_ref>)]\n",
      "\n",
      "\n",
      "Tensor(\"tower_1/fifo_queue_DequeueMany:0\", shape=(32, 64, 64, 3), dtype=float32, device=/device:GPU:1)\n",
      "\n",
      "\n",
      "[(None, <tf.Variable 'tower_0/Variable:0' shape=(5, 5, 3, 64) dtype=float32_ref>), (None, <tf.Variable 'tower_0/Variable_1:0' shape=(64,) dtype=float32_ref>), (None, <tf.Variable 'tower_0/Variable_2:0' shape=(5, 5, 64, 32) dtype=float32_ref>), (None, <tf.Variable 'tower_0/Variable_3:0' shape=(32,) dtype=float32_ref>), (None, <tf.Variable 'tower_0/Variable_4:0' shape=(100352, 26) dtype=float32_ref>), (None, <tf.Variable 'tower_0/Variable_5:0' shape=(26,) dtype=float32_ref>), (<tf.Tensor 'tower_1/gradients/tower_1/Conv2D_grad/tuple/control_dependency_1:0' shape=(5, 5, 3, 64) dtype=float32>, <tf.Variable 'tower_1/Variable:0' shape=(5, 5, 3, 64) dtype=float32_ref>), (<tf.Tensor 'tower_1/gradients/tower_1/add_grad/tuple/control_dependency_1:0' shape=(64,) dtype=float32>, <tf.Variable 'tower_1/Variable_1:0' shape=(64,) dtype=float32_ref>), (<tf.Tensor 'tower_1/gradients/tower_1/Conv2D_1_grad/tuple/control_dependency_1:0' shape=(5, 5, 64, 32) dtype=float32>, <tf.Variable 'tower_1/Variable_2:0' shape=(5, 5, 64, 32) dtype=float32_ref>), (<tf.Tensor 'tower_1/gradients/tower_1/add_1_grad/tuple/control_dependency_1:0' shape=(32,) dtype=float32>, <tf.Variable 'tower_1/Variable_3:0' shape=(32,) dtype=float32_ref>), (<tf.Tensor 'tower_1/gradients/tower_1/add_2_grad/tuple/control_dependency:0' shape=(100352, 26) dtype=float32>, <tf.Variable 'tower_1/Variable_4:0' shape=(100352, 26) dtype=float32_ref>), (<tf.Tensor 'tower_1/gradients/tower_1/add_2_grad/tuple/control_dependency_1:0' shape=(26,) dtype=float32>, <tf.Variable 'tower_1/Variable_5:0' shape=(26,) dtype=float32_ref>)]\n",
      "\n",
      "\n"
     ]
    }
   ],
   "source": [
    "\n",
    "dataset = Dataset(32)\n",
    "global_step = tf.get_variable(\n",
    "        'global_step', [],\n",
    "        initializer=tf.constant_initializer(0), trainable=False)\n",
    "optimizer = tf.train.AdamOptimizer(learning_rate=0.0001)\n",
    "tower_gradient , loss = get_tower_results(dataset,2,optimizer)\n"
   ]
  },
  {
   "cell_type": "code",
   "execution_count": 9,
   "metadata": {
    "collapsed": true,
    "deletable": true,
    "editable": true
   },
   "outputs": [],
   "source": [
    "avarage_grad = average_gradients(tower_gradient)"
   ]
  },
  {
   "cell_type": "code",
   "execution_count": 10,
   "metadata": {
    "collapsed": true,
    "deletable": true,
    "editable": true
   },
   "outputs": [],
   "source": [
    "train_op = optimizer.apply_gradients(avarage_grad)"
   ]
  },
  {
   "cell_type": "code",
   "execution_count": 11,
   "metadata": {
    "collapsed": false
   },
   "outputs": [],
   "source": [
    "\n",
    "# sess = tf.Session()\n",
    "# coord = tf.train.Coordinator()\n",
    "# dataset.start_queue_threads(sess,coord)"
   ]
  },
  {
   "cell_type": "code",
   "execution_count": 14,
   "metadata": {
    "collapsed": false
   },
   "outputs": [
    {
     "data": {
      "text/plain": [
       "[<Thread(Thread-6, started daemon 140706060433152)>,\n",
       " <Thread(Thread-7, started daemon 140706052040448)>]"
      ]
     },
     "execution_count": 14,
     "metadata": {},
     "output_type": "execute_result"
    }
   ],
   "source": [
    "config = tf.ConfigProto(allow_soft_placement=True)\n",
    "sess = tf.Session(config=config)\n",
    "sess.run(tf.global_variables_initializer())\n",
    "coord = tf.train.Coordinator()\n",
    "dataset.start_queue_threads(sess,coord)"
   ]
  },
  {
   "cell_type": "code",
   "execution_count": 15,
   "metadata": {
    "collapsed": false
   },
   "outputs": [
    {
     "name": "stdout",
     "output_type": "stream",
     "text": [
      "16549.4\n",
      "16281.2\n",
      "17291.9\n",
      "16853.7\n",
      "17114.1\n",
      "17491.7\n",
      "17844.0\n",
      "18437.4\n",
      "17930.4\n",
      "18679.4\n",
      "19061.2\n",
      "18770.7\n",
      "19357.5\n",
      "20094.2\n",
      "20005.4\n",
      "20236.8\n",
      "21303.5\n",
      "21405.9\n",
      "22026.5\n",
      "21477.5\n",
      "22906.7\n",
      "22960.5\n",
      "22951.0\n",
      "24188.3\n",
      "24428.7\n",
      "24651.3\n",
      "24912.6\n",
      "25837.3\n",
      "25859.6\n",
      "26217.0\n",
      "26802.5\n",
      "27893.7\n",
      "28401.5\n",
      "27958.0\n",
      "29679.1\n",
      "29615.0\n",
      "31635.5\n",
      "30859.9\n",
      "31425.0\n",
      "32155.9\n"
     ]
    }
   ],
   "source": [
    "for e in range(10):\n",
    "    for i in range(dataset.num_batch):\n",
    "        _, cost = sess.run([train_op,loss])\n",
    "        print(cost)"
   ]
  },
  {
   "cell_type": "code",
   "execution_count": null,
   "metadata": {
    "collapsed": true
   },
   "outputs": [],
   "source": []
  }
 ],
 "metadata": {
  "kernelspec": {
   "display_name": "Python 3",
   "language": "python",
   "name": "python3"
  },
  "language_info": {
   "codemirror_mode": {
    "name": "ipython",
    "version": 3
   },
   "file_extension": ".py",
   "mimetype": "text/x-python",
   "name": "python",
   "nbconvert_exporter": "python",
   "pygments_lexer": "ipython3",
   "version": "3.5.2"
  }
 },
 "nbformat": 4,
 "nbformat_minor": 2
}
